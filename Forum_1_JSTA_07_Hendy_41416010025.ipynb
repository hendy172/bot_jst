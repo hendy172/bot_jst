{
  "nbformat": 4,
  "nbformat_minor": 0,
  "metadata": {
    "colab": {
      "name": "Forum_8_JSTA_07_RegyWalfhadila_41417120053",
      "provenance": [],
      "collapsed_sections": [],
      "include_colab_link": true
    },
    "kernelspec": {
      "display_name": "Python 3",
      "name": "python3"
    }
  },
  "cells": [
    {
      "cell_type": "markdown",
      "metadata": {
        "id": "view-in-github",
        "colab_type": "text"
      },
      "source": [
        "<a href=\"https://colab.research.google.com/github/hendy172/bot_jst/blob/main/Forum_1_JSTA_07_Hendy_41416010025.ipynb\" target=\"_parent\"><img src=\"https://colab.research.google.com/assets/colab-badge.svg\" alt=\"Open In Colab\"/></a>"
      ]
    },
    {
      "cell_type": "code",
      "metadata": {
        "id": "Bi353skp8nKu"
      },
      "source": [
        "[1] import tensorflow as tf\n",
        "    import time\n",
        "    import numpy as np\n",
        "    import matplotlib.pyplot as plt\n",
        "    import sys\n",
        "\n",
        "    from numpy import genfromtxt\n",
        "    from tensorflow import keras\n",
        "    from keras.layers import *\n",
        "\n",
        "[2] epoch = 250\n",
        "    batch_size = 1"
      ],
      "execution_count": null,
      "outputs": []
    },
    {
      "cell_type": "code",
      "metadata": {
        "id": "qvL8RabV9jIc"
      },
      "source": [
        "[3] in_layer = np.array([])\n",
        "    out_layer = np.array([])\n",
        "    in_dim = 2\n",
        "    out_dim = 2\n",
        "\n",
        "    df = genfromtxt('dataset.csv', delimiter=',')\n",
        "    for i in range(len(df)):\n",
        "      if(i>0):\n",
        "          in_layer = np.append(\n",
        "              in_layer,\n",
        "              [\n",
        "                  df[i][0],\n",
        "                  df[i][1]\n",
        "              ]\n",
        "          )\n",
        "          out_layer = np.append(\n",
        "                out_layer,\n",
        "                [\n",
        "                    df[i][2],\n",
        "                    df[i][3]\n",
        "                ]\n",
        "          )\n",
        "\n",
        "          x_train = np.reshape(in_layer, (-1, in_dim, ))\n",
        "          y_train = np.reshape(out_layer, (-1, out_dim, ))\n",
        "\n",
        "    len(x_train), len(y_train)\n",
        "    (1, 1)\n",
        "\n",
        "\n",
        " [4] x_train[0].shape, x_train[0], y_train[0].shape, y_train[0]\n",
        "     ((2,), array([0.05, 0.1 ]), (2,), array([0.01, 0.99]))                "
      ],
      "execution_count": null,
      "outputs": []
    },
    {
      "cell_type": "code",
      "metadata": {
        "id": "AZ-PjKbcCJwQ"
      },
      "source": [
        "[5] model = keras.models.Sequential([\n",
        "        Dense(in_dim, input_dim = in_dim), # input params\n",
        "\n",
        "        Dense(2, activation=tf.nn.sigmoid), # sigmoid, relu, leaky_relu, tanh\n",
        "\n",
        "        Dense(out_dim) # output params\n",
        "    ])"
      ],
      "execution_count": null,
      "outputs": []
    },
    {
      "cell_type": "code",
      "metadata": {
        "id": "4j_Xrvn_C5yT"
      },
      "source": [
        "[6] model.compile(\n",
        "        optimizer = tf.keras.optimizer.SGD(),\n",
        "        loss = tf.keras.losses.mean_squared_error,\n",
        "        metrics = [ 'accuracy' ]\n",
        "    )\n",
        "\n",
        "[7] %%time\n",
        "    print('Processing')\n",
        "    train = model.fit(\n",
        "        x_train,\n",
        "        y_train,\n",
        "        epoch = epoch,\n",
        "        verbose = 0,\n",
        "        batch_size = batch_size\n",
        "    )\n",
        "\n",
        "    Processing...\n",
        "    CPU times: user 1.41 s, sys: 67,1 ms, total: 1.48 s\n",
        "    Wall time: 1.35 s"
      ],
      "execution_count": null,
      "outputs": []
    },
    {
      "cell_type": "code",
      "metadata": {
        "id": "JJod7pSCEXrW"
      },
      "source": [
        "[8] print(\"Num of Epoch: \", epoch)\n",
        "    print(\"AVG Training Accuracy\", np.average(train.history['accuracy']))\n",
        "    print(\"AVG Training Loss\", np.average(train.history['loss']))\n",
        "    print(\"Data Size: \", sys.getsizeof(df))\n",
        "\n",
        "    Num of Epoch: 250\n",
        "    AVG Training Accuracy 0.808\n",
        "    AVG Training Loss 0.18784473063680343\n",
        "    Data Size: 176\n",
        "\n",
        "[9] score = model.evaluate(x_train, y_train)\n",
        "    print(\"eVal Loss: \", score[0])\n",
        "    print(\"eVal Accuracy: \", score[1])\n",
        "\n",
        "    1/1 [==============================] - 0s 139ms/step - loss: 8.344e-04 - accuracy: 1.0000\n",
        "    eVal Loss: 0.0008344256784766912\n",
        "    eVal Accuracy: 1.0"
      ],
      "execution_count": null,
      "outputs": []
    },
    {
      "cell_type": "code",
      "metadata": {
        "id": "FZZ6SSs6GqTd"
      },
      "source": [
        "[10] row = 0\n",
        "\n",
        "     pred = np.array([\n",
        "             x_train[row]\n",
        "     ])\n",
        "     print('Predictive: ', model.predict(pred)[0])\n",
        "     print('Target: ', y_train[row])\n",
        "\n",
        "     predictive:  [0.01357383 0.94930506]\n",
        "     Target: [0.01 0.99]\n",
        "                     "
      ],
      "execution_count": null,
      "outputs": []
    },
    {
      "cell_type": "code",
      "metadata": {
        "id": "6QIGmuOAH36R"
      },
      "source": [
        "[12] e = [*range(0, epoch, 1)]\n",
        "\n",
        "    plt.plot(\n",
        "      e,\n",
        "      train.history['accuracy'],\n",
        "      label='Accuracy {:0.4f}'.format(np.average(train.history['accuracy']))\n",
        "    )\n",
        "    plt.plot(\n",
        "      e,\n",
        "      train.history['loss'],\n",
        "      label='Loss {:0.4f}'.format(np.average(train.history['loss']))\n",
        "    )\n",
        "\n",
        "    plt.xlabel('Num of Iterations ({})'.format(epoch))\n",
        "    plt.ylabel('Score')\n",
        "    plt.title('Execution Time')\n",
        "    plt.ylim(top=1.1)\n",
        "    plt.legend(loc=5, prop={'size': 10})\n",
        "    plt.show()\n"
      ],
      "execution_count": null,
      "outputs": []
    },
    {
      "cell_type": "code",
      "metadata": {
        "id": "8KssDIg7z0c8"
      },
      "source": [
        "[10]  row = 0\n",
        "\n",
        "      pred = np.array([\n",
        "              x_train[row]\n",
        "      ])\n",
        "      print('Predictive: ', model.predict(pred)[0])\n",
        "      print('Target: ', y_train[row])\n",
        "\n",
        "      Predictive: [0.00981912 0.9899323 ]\n",
        "      Target: [0.01 0.99]\n",
        "\n",
        "\n",
        " [11]  #calculating the accuracy from its result\n",
        "        abs = np.absolute(\n",
        "              np.subtract(\n",
        "                  model.predict(pred)[0]\\\n",
        "                  y_train[row]\n",
        "\n",
        "              )\n",
        "        )\n",
        "        loss = np.divide(abs, y_train[row])\n",
        "        acc = np.absolute(\n",
        "              np.average(1-loss)\n",
        "        )\n",
        "        print(\"AVG Testing Accuracy\", acc)\n",
        "\n",
        "        AVG Testing Accuracy 0.9909218158384766     \n"
      ],
      "execution_count": null,
      "outputs": []
    }
  ]
}